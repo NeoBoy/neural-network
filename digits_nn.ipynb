{
 "worksheets": [
  {
   "cells": [
    {
     "cell_type": "markdown",
     "metadata": {},
     "source": [
      "# Digit recognizer in Python"
     ]
    },
    {
     "cell_type": "markdown",
     "metadata": {},
     "source": [
      "## Import necessary packages"
     ]
    },
    {
     "cell_type": "code",
     "execution_count": null,
     "metadata": {},
     "outputs": [],
     "input": [
      "import numpy as np\n",
      "import scipy.io\n",
      "import matplotlib.pyplot as plt\n",
      "import math\n",
      "from sklearn.cross_validation import train_test_split\n",
      "from scipy.optimize import fmin_cg\n",
      "from sklearn.metrics import accuracy_score"
     ],
     "language": "python"
    },
    {
     "cell_type": "markdown",
     "metadata": {},
     "source": [
      "## Load data"
     ]
    },
    {
     "cell_type": "code",
     "execution_count": null,
     "metadata": {},
     "outputs": [],
     "input": [
      "data = scipy.io.loadmat('digits.mat')\n",
      "X = data[\"X\"]\n",
      "y = data[\"y\"]\n",
      "y[y==10]=0"
     ],
     "language": "python"
    },
    {
     "cell_type": "markdown",
     "metadata": {},
     "source": [
      "## Split data into testing and training sets"
     ]
    },
    {
     "cell_type": "code",
     "execution_count": null,
     "metadata": {},
     "outputs": [],
     "input": [
      "Xtrain, Xtest, ytrain, ytest = train_test_split(X, y, test_size=0.25, random_state=0)"
     ],
     "language": "python"
    },
    {
     "cell_type": "markdown",
     "metadata": {},
     "source": [
      "## Define parameters specific to the data"
     ]
    },
    {
     "cell_type": "code",
     "execution_count": null,
     "metadata": {},
     "outputs": [],
     "input": [
      "m = np.float(X.shape[0]) # total number of examples\n",
      "mtrain = np.float(Xtrain.shape[0]) # Number of training examples\n",
      "mtest = np.float(Xtest.shape[0]) # Number of testing examples\n",
      "n = np.float(X.shape[1]) # Number of features\n",
      "classes = 10\n",
      "ytrain_matrix = np.eye(classes)[ytrain].reshape(mtrain,classes)\n",
      "ytest_matrix = np.eye(classes)[ytest].reshape(mtest,classes)"
     ],
     "language": "python"
    },
    {
     "cell_type": "markdown",
     "metadata": {},
     "source": [
      "## Model specific parameters"
     ]
    },
    {
     "cell_type": "code",
     "execution_count": null,
     "metadata": {},
     "outputs": [],
     "input": [
      "nodes = 10\n",
      "Lambda = 3\n",
      "maxiter = 200"
     ],
     "language": "python"
    },
    {
     "cell_type": "markdown",
     "metadata": {},
     "source": [
      "## Code to visualize 100 random digits"
     ]
    },
    {
     "cell_type": "code",
     "execution_count": null,
     "metadata": {},
     "outputs": [],
     "input": [
      "def drawplot(draw):\n",
      "    if draw:\n",
      "        idx = np.random.randint(m,size=100)\n",
      "        fig, ax = plt.subplots(10, 10)\n",
      "        img_size = math.sqrt(n)\n",
      "        for i in range(10):\n",
      "            for j in range(10):\n",
      "                Xi = X[idx[i*10+j],:].reshape(img_size, img_size).T\n",
      "                ax[i, j].set_axis_off() # Turns off the axes for all the subplots\n",
      "                ax[i,j].imshow(Xi, aspect='auto',cmap='gray')\n",
      "        plt.show()\n",
      "drawplot(False)"
     ],
     "language": "python"
    },
    {
     "cell_type": "markdown",
     "metadata": {},
     "source": [
      "## Sigmoid activation function"
     ]
    },
    {
     "cell_type": "code",
     "execution_count": null,
     "metadata": {},
     "outputs": [],
     "input": [
      "def sigmoid(z):\n",
      "    return 1.0 / (1.0 + np.exp(-1 * z))"
     ],
     "language": "python"
    },
    {
     "cell_type": "markdown",
     "metadata": {},
     "source": [
      "## Predict function"
     ]
    },
    {
     "cell_type": "code",
     "execution_count": null,
     "metadata": {},
     "outputs": [],
     "input": [
      "def predict(theta,x):\n",
      "    # Unroll the theta values as before\n",
      "    theta1 = theta[:(n+1)*nodes].reshape((nodes,(n+1)))\n",
      "    theta2 = theta[(n+1)*nodes:].reshape((classes,(nodes+1)))\n",
      "    \n",
      "    m = np.float(x.shape[0])\n",
      "    \n",
      "    #Forward propagation (also as before!)\n",
      "    a1 = np.concatenate((np.ones((1,m)).T,x),axis=1)\n",
      "    z2 = a1.dot(theta1.T)\n",
      "    a2 = np.concatenate((np.ones((1,m)).T,sigmoid(z2)),axis=1)\n",
      "    z3 = a2.dot(theta2.T)\n",
      "    a3 = sigmoid(z3)\n",
      "    \n",
      "    return np.argmax(a3, axis=1)"
     ],
     "language": "python"
    },
    {
     "cell_type": "markdown",
     "metadata": {},
     "source": [
      "## Neural network function"
     ]
    },
    {
     "cell_type": "code",
     "execution_count": null,
     "metadata": {},
     "outputs": [],
     "input": [
      "def nn(theta):\n",
      "\n",
      "    # Unroll thetas\n",
      "    theta1 = theta[:(n+1)*nodes].reshape((nodes,(n+1))) # [Hiddden X n + 1] = [10X401]\n",
      "    theta2 = theta[(n+1)*nodes:].reshape((classes,(nodes+1))) # [classes X nodes + 1] = [10X11]\n",
      "\n",
      "    # Forward propagation\n",
      "    a1 = np.concatenate((np.ones((1,mtrain)).T,Xtrain),axis=1) # [m X n + 1] = [3750X401]\n",
      "    z2 = a1.dot(theta1.T) # [m X nodes] = [3750X10]\n",
      "    a2 = np.concatenate((np.ones((1,mtrain)).T,sigmoid(z2)),axis=1) # [m X nodes + 1] = [3750X11]\n",
      "    z3 = a2.dot(theta2.T) # [m X classes] = [3750X10]\n",
      "    a3 = sigmoid(z3) # [m X classes] = [3750X10]\n",
      "\n",
      "    # Cost function\n",
      "    J = np.sum(-ytrain_matrix*np.log(a3) - (1-ytrain_matrix)*(np.log(1-a3)))/mtrain + ((Lambda/(2*mtrain)) * (np.sum(theta1[:,1:]**2) + np.sum(theta2[:,1:]**2)))\n",
      "        \n",
      "\n",
      "    # Backpropagation\n",
      "    d3 = (a3 - ytrain_matrix) # [m X classes] = [3750X10]\n",
      "    d2 = (a3 - ytrain_matrix).dot(theta2) * (a2*(1-a2)) # [m X nodes+1] = [3750X11]\n",
      "    D1 = d2[:,1:].T.dot(a1)/mtrain # [nodes X n + 1] = [10X401]\n",
      "    D2 = d3.T.dot(a2)/mtrain # [n X nodes + 1] = [10X11]\n",
      "    if Lambda!=0:\n",
      "        D1[:,1:] += (Lambda/mtrain * theta1[:,1:]) # [nodes X n + 1] = [3X3]\n",
      "        D2[:,1:] += (Lambda/mtrain * theta2[:,1:]) # [classes X nodes + 1] = [2X4]\n",
      "\n",
      "    # Roll grads D1 and D2 into 1D array\n",
      "    grads = np.concatenate((D1.reshape(((n+1)*nodes)),D2.reshape(((nodes+1)*classes))))\n",
      "\n",
      "    return J, grads"
     ],
     "language": "python"
    },
    {
     "cell_type": "markdown",
     "metadata": {},
     "source": [
      "## Mini-functions to return either cost or gradient from the nn() function"
     ]
    },
    {
     "cell_type": "code",
     "execution_count": null,
     "metadata": {},
     "outputs": [],
     "input": [
      "def cost(theta):\n",
      "    return nn(theta)[0]\n",
      "\n",
      "def grad(theta):\n",
      "    return nn(theta)[1]"
     ],
     "language": "python"
    },
    {
     "cell_type": "markdown",
     "metadata": {},
     "source": [
      "## Random intialization function"
     ]
    },
    {
     "cell_type": "code",
     "execution_count": null,
     "metadata": {},
     "outputs": [],
     "input": [
      "def randtheta(L_in,L_out):\n",
      "        #np.random.seed(0)\n",
      "        rand_epsilon = np.sqrt(6) / np.sqrt(L_in+L_out)\n",
      "        theta = (np.random.random((L_out, L_in + 1)) *(2*rand_epsilon)) - rand_epsilon\n",
      "        return theta"
     ],
     "language": "python"
    },
    {
     "cell_type": "markdown",
     "metadata": {},
     "source": [
      "## Call the functions to train the model"
     ]
    },
    {
     "cell_type": "code",
     "execution_count": null,
     "metadata": {},
     "outputs": [],
     "input": [
      "theta_init = np.concatenate((randtheta(n,nodes).reshape(((n+1)*nodes)),randtheta(nodes,classes).reshape(((nodes+1)*classes))))\n",
      "model = fmin_cg(cost, x0=theta_init, fprime=grad, full_output=1, disp=1, maxiter=maxiter);\n",
      "theta = model[0]\n",
      "print \"The cost is %f\" %(model[1])\n",
      "print \"The accuracy is on the training set is %f\" %(accuracy_score(ytrain, predict(theta,Xtrain)))\n",
      "print \"The accuracy is on the testing set is %f\" %(accuracy_score(ytest, predict(theta,Xtest)))"
     ],
     "language": "python"
    },
    {
     "cell_type": "markdown",
     "metadata": {},
     "source": [
      "## Printer() function to demonstrate the model\n",
      "\n",
      "This function selects a random digit from the entire data set and draws a figure. Then it passes the features to the predict function, which returns the predicted digit. The figure is plotted and the predicted digit is included in the title."
     ]
    },
    {
     "cell_type": "code",
     "execution_count": null,
     "metadata": {},
     "outputs": [],
     "input": [
      "def printer():\n",
      "    idx = np.random.randint(m,size=1)\n",
      "    img_size = math.sqrt(n)\n",
      "    Xi = X[idx,:].reshape(img_size,img_size).T\n",
      "    yi = predict(theta,X[idx,:])[0]\n",
      "    plt.title('The predicted value is %i' %(yi))\n",
      "    plt.imshow(Xi, aspect='auto',cmap='gray')\n",
      "    plt.axis('off')\n",
      "    plt.show()"
     ],
     "language": "python"
    },
    {
     "cell_type": "code",
     "execution_count": null,
     "metadata": {},
     "outputs": [],
     "input": [
      ""
     ],
     "language": "python"
    }
   ]
  }
 ],
 "cells": [],
 "metadata": {},
 "nbformat": 3,
 "nbformat_minor": 0
}